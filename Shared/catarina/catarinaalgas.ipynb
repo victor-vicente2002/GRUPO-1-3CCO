{
 "cells": [
  {
   "cell_type": "code",
   "execution_count": 4,
   "id": "6dc55589",
   "metadata": {},
   "outputs": [
    {
     "name": "stdout",
     "output_type": "stream",
     "text": [
      "Conectado ao servidor MySQL versão  8.0.28\n",
      "Conectado ao banco de dados  ('algascatarina',)\n"
     ]
    }
   ],
   "source": [
    "from datetime import datetime\n",
    "import matplotlib.pyplot as plt\n",
    "import numpy as np\n",
    "import tracemalloc\n",
    "import mysql.connector\n",
    "con = mysql.connector.connect(host='localhost',database='ALGASCATARINA',user='root',password='root')\n",
    "\n",
    "if con.is_connected():\n",
    "    db_info = con.get_server_info()\n",
    "    print(\"Conectado ao servidor MySQL versão \",db_info)\n",
    "    cursor = con.cursor()\n",
    "    cursor.execute(\"select database();\")\n",
    "    linha = cursor.fetchone()\n",
    "    print(\"Conectado ao banco de dados \",linha)\n",
    "\n",
    "\n",
    "def algas(bank_transaciton):\n",
    "    tracemalloc.start()\n",
    "    \n",
    "    dt_inicio = datetime.now()\n",
    "    dt_fim = 0\n",
    "    accumulate= 0\n",
    "    \n",
    "    for i in range(1, bank_transaciton+1):\n",
    "        accumulate += i\n",
    "    dt_fim = datetime.now()\n",
    "\n",
    "    time_elapsed = dt_fim - dt_inicio\n",
    "\n",
    "    \n",
    "    dadosReturn = f\" {bank_transaciton},{accumulate},{tracemalloc.get_traced_memory()[1] / 10},{time_elapsed.total_seconds()} \"\n",
    "\n",
    "    tracemalloc.stop()\n",
    "\n",
    "    return dadosReturn\n",
    "\n",
    "\n",
    "def insertDados(paramentosData):\n",
    "     \n",
    "    mycursor = con.cursor()\n",
    "\n",
    "    mycursor.execute(f'''INSERT INTO insert_values (bank_transaciton, accumulate, memory, time_elapsed) \n",
    "    VALUES ({paramentosData})''')\n",
    "\n",
    "    con.commit()"
   ]
  },
  {
   "cell_type": "code",
   "execution_count": 5,
   "id": "ebeed5d9",
   "metadata": {},
   "outputs": [],
   "source": [
    "# a)\n",
    "valores = []\n",
    "for valor in range(100000, 600000, 100000):\n",
    "    algasDados = algas(valor)\n",
    "    valores.append(algasDados)\n",
    "    insertDados(algasDados)"
   ]
  },
  {
   "cell_type": "code",
   "execution_count": 10,
   "id": "6863812c",
   "metadata": {},
   "outputs": [],
   "source": [
    "# b)\n",
    "valores = []\n",
    "for valor in range(1000, 6000, 100):\n",
    "    algasDados = algas(valor)\n",
    "    valores.append(algasDados)\n",
    "    insertDados(algasDados)"
   ]
  },
  {
   "cell_type": "code",
   "execution_count": null,
   "id": "dee862ed",
   "metadata": {},
   "outputs": [],
   "source": [
    "# c)\n",
    "valores = []\n",
    "for valor in range(100, 600, 100):\n",
    "    algasDados = algas(valor)\n",
    "    valores.append(algasDados)\n",
    "    insertDados(algasDados)\n"
   ]
  },
  {
   "cell_type": "code",
   "execution_count": 11,
   "id": "9c3caf6d",
   "metadata": {},
   "outputs": [],
   "source": [
    "# d)\n",
    "valores = []\n",
    "for valor in range(10, 60, 10):\n",
    "    algasDados = algas(valor)\n",
    "    valores.append(algasDados)\n",
    "    insertDados(algasDados)"
   ]
  },
  {
   "cell_type": "code",
   "execution_count": 12,
   "id": "49e41908",
   "metadata": {},
   "outputs": [],
   "source": [
    "# e)\n",
    "valores = []\n",
    "for valor in range(1000000, 6000000, 1000000):\n",
    "    algasDados = algas(valor)\n",
    "    valores.append(algasDados)\n",
    "    insertDados(algasDados)\n"
   ]
  },
  {
   "cell_type": "code",
   "execution_count": 14,
   "id": "96ec8834",
   "metadata": {},
   "outputs": [
    {
     "name": "stdout",
     "output_type": "stream",
     "text": [
      "Conexao encerrada  ('algascatarina',)\n"
     ]
    }
   ],
   "source": [
    "cursor.close()\n",
    "con.close()\n",
    "print(\"Conexao encerrada \",linha)"
   ]
  }
 ],
 "metadata": {
  "kernelspec": {
   "display_name": "Python 3 (ipykernel)",
   "language": "python",
   "name": "python3"
  },
  "language_info": {
   "codemirror_mode": {
    "name": "ipython",
    "version": 3
   },
   "file_extension": ".py",
   "mimetype": "text/x-python",
   "name": "python",
   "nbconvert_exporter": "python",
   "pygments_lexer": "ipython3",
   "version": "3.10.2"
  }
 },
 "nbformat": 4,
 "nbformat_minor": 5
}
