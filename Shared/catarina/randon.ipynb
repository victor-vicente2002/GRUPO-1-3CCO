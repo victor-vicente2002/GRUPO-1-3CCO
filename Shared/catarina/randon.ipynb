{
 "cells": [
  {
   "cell_type": "code",
   "execution_count": 28,
   "id": "a37aa8ff",
   "metadata": {},
   "outputs": [],
   "source": [
    "from pyspark import SparkConf\n",
    "from pyspark.sql import SparkSession\n",
    "from functools import reduce\n",
    "import unicodedata\n",
    "from pyspark.sql.functions import col"
   ]
  },
  {
   "cell_type": "code",
   "execution_count": 1,
   "id": "60a1997b",
   "metadata": {},
   "outputs": [
    {
     "name": "stderr",
     "output_type": "stream",
     "text": [
      "WARNING: An illegal reflective access operation has occurred\n",
      "WARNING: Illegal reflective access by org.apache.spark.unsafe.Platform (file:/usr/local/lib/python3.7/site-packages/pyspark/jars/spark-unsafe_2.12-3.2.1.jar) to constructor java.nio.DirectByteBuffer(long,int)\n",
      "WARNING: Please consider reporting this to the maintainers of org.apache.spark.unsafe.Platform\n",
      "WARNING: Use --illegal-access=warn to enable warnings of further illegal reflective access operations\n",
      "WARNING: All illegal access operations will be denied in a future release\n"
     ]
    },
    {
     "name": "stdout",
     "output_type": "stream",
     "text": [
      ":: loading settings :: url = jar:file:/usr/local/lib/python3.7/site-packages/pyspark/jars/ivy-2.5.0.jar!/org/apache/ivy/core/settings/ivysettings.xml\n"
     ]
    },
    {
     "name": "stderr",
     "output_type": "stream",
     "text": [
      "Ivy Default Cache set to: /root/.ivy2/cache\n",
      "The jars for the packages stored in: /root/.ivy2/jars\n",
      "org.apache.hadoop#hadoop-aws added as a dependency\n",
      "com.microsoft.azure#spark-mssql-connector_2.12 added as a dependency\n",
      ":: resolving dependencies :: org.apache.spark#spark-submit-parent-1a2974d0-3be9-42ef-9af3-abd4c55810f0;1.0\n",
      "\tconfs: [default]\n",
      "\tfound org.apache.hadoop#hadoop-aws;3.2.2 in central\n",
      "\tfound com.amazonaws#aws-java-sdk-bundle;1.11.563 in central\n",
      "\tfound com.microsoft.azure#spark-mssql-connector_2.12;1.2.0 in central\n",
      "\tfound com.microsoft.sqlserver#mssql-jdbc;8.4.1.jre8 in central\n",
      ":: resolution report :: resolve 569ms :: artifacts dl 26ms\n",
      "\t:: modules in use:\n",
      "\tcom.amazonaws#aws-java-sdk-bundle;1.11.563 from central in [default]\n",
      "\tcom.microsoft.azure#spark-mssql-connector_2.12;1.2.0 from central in [default]\n",
      "\tcom.microsoft.sqlserver#mssql-jdbc;8.4.1.jre8 from central in [default]\n",
      "\torg.apache.hadoop#hadoop-aws;3.2.2 from central in [default]\n",
      "\t---------------------------------------------------------------------\n",
      "\t|                  |            modules            ||   artifacts   |\n",
      "\t|       conf       | number| search|dwnlded|evicted|| number|dwnlded|\n",
      "\t---------------------------------------------------------------------\n",
      "\t|      default     |   4   |   0   |   0   |   0   ||   4   |   0   |\n",
      "\t---------------------------------------------------------------------\n",
      ":: retrieving :: org.apache.spark#spark-submit-parent-1a2974d0-3be9-42ef-9af3-abd4c55810f0\n",
      "\tconfs: [default]\n",
      "\t0 artifacts copied, 4 already retrieved (0kB/21ms)\n",
      "22/06/15 01:49:16 WARN NativeCodeLoader: Unable to load native-hadoop library for your platform... using builtin-java classes where applicable\n",
      "Using Spark's default log4j profile: org/apache/spark/log4j-defaults.properties\n",
      "Setting default log level to \"WARN\".\n",
      "To adjust logging level use sc.setLogLevel(newLevel). For SparkR, use setLogLevel(newLevel).\n"
     ]
    }
   ],
   "source": [
    "#iniciar spark\n",
    "\n",
    "conf = SparkConf()\n",
    "#conf.set('spark.jars.packages', 'org.apache.hadoop:hadoop-aws:3.2.2')\n",
    "conf.set('spark.jars.packages', 'org.apache.hadoop:hadoop-aws:3.2.2,com.microsoft.azure:spark-mssql-connector_2.12:1.2.0')\n",
    "conf.set('spark.hadoop.fs.s3a.aws.credentials.provider', 'com.amazonaws.auth.InstanceProfileCredentialsProvider')\n",
    "spark = SparkSession.builder.config(conf=conf).getOrCreate()"
   ]
  },
  {
   "cell_type": "code",
   "execution_count": 24,
   "id": "bfe64ee0",
   "metadata": {},
   "outputs": [],
   "source": [
    "dfRandon = spark.read.json(\"s3a://catarina-3sprint-sptech-bucket-bruto/randon.json\", multiLine=True)"
   ]
  },
  {
   "cell_type": "code",
   "execution_count": 20,
   "id": "e00ffaa9",
   "metadata": {},
   "outputs": [
    {
     "name": "stdout",
     "output_type": "stream",
     "text": [
      "DataFrame[id: bigint, litros_acumulado: string, memory: bigint, ph: double, qnt_litros: bigint]\n"
     ]
    }
   ],
   "source": [
    "print(dfRandon) "
   ]
  },
  {
   "cell_type": "code",
   "execution_count": 25,
   "id": "8d4b7848",
   "metadata": {},
   "outputs": [
    {
     "name": "stdout",
     "output_type": "stream",
     "text": [
      "+---+----------------+------+----+----------+\n",
      "| id|litros_acumulado|memory|  ph|qnt_litros|\n",
      "+---+----------------+------+----+----------+\n",
      "|  1|      5000050000|     0|0.16|    100000|\n",
      "|  2|     20000100000|    14|0.26|    200000|\n",
      "|  3|     45000150000|    15|0.46|    300000|\n",
      "|  4|     80000200000|    54|0.58|    400000|\n",
      "|  5|        1,25E+11|    55|0.72|    500000|\n",
      "|  6|      5000050000|    83|0.13|    100000|\n",
      "|  7|     20000100000|    83|0.37|    200000|\n",
      "|  8|     45000150000|    84|0.44|    300000|\n",
      "|  9|     80000200000|    37|0.78|    400000|\n",
      "| 10|        1,25E+11|    38|0.76|    500000|\n",
      "| 11|      5000050000|    38|0.13|    100000|\n",
      "| 12|     20000100000|    38|0.26|    200000|\n",
      "| 13|     45000150000|    39|0.37|    300000|\n",
      "| 14|     80000200000|    34|0.47|    400000|\n",
      "| 15|        1,25E+11|    35|0.57|    500000|\n",
      "| 16|          500500|    35|0.16|      1000|\n",
      "| 17|          605550|    35|0.26|      1100|\n",
      "| 18|          720600|    33|0.46|      1200|\n",
      "| 19|          845650|    31|0.58|      1300|\n",
      "| 20|          980700|    16|0.72|      1400|\n",
      "+---+----------------+------+----+----------+\n",
      "only showing top 20 rows\n",
      "\n"
     ]
    }
   ],
   "source": [
    "dfRandon.show()"
   ]
  },
  {
   "cell_type": "code",
   "execution_count": 34,
   "id": "943e6fad",
   "metadata": {},
   "outputs": [],
   "source": [
    "colunas = dfRandon.columns\n",
    "novas_colunas = list(map(lambda item: unicodedata.normalize('NFKD', item.replace(\"(\", \"\").replace(\")\", \"\").replace(\"-\",\"\").replace(\n",
    "    \" \", \"_\").upper()).encode('ascii', 'ignore').decode('utf-8', 'ignore'), colunas))\n",
    "dfRandonNovasColunas = reduce(lambda data, idx: data.withColumnRenamed(colunas[idx], novas_colunas[idx]),\n",
    "                              range(len(colunas)), dfRandon)"
   ]
  },
  {
   "cell_type": "code",
   "execution_count": 35,
   "id": "b10108a0",
   "metadata": {},
   "outputs": [],
   "source": [
    "dfRandonTratado = dfRandonNovasColunas.selectExpr(\"id as ID\",\n",
    "                                                           \"litros_acumulado as LITROS_GASTOS\",\n",
    "                                                           \"memory  as QUANTIDADE_AMOSTRAS\",\n",
    "                                                           \"ph  as PH\",\n",
    "                                                           \"qnt_litros as LITROS_AMOSTRA\",\n",
    "                                                           )"
   ]
  },
  {
   "cell_type": "code",
   "execution_count": 36,
   "id": "ea28ddab",
   "metadata": {},
   "outputs": [
    {
     "name": "stdout",
     "output_type": "stream",
     "text": [
      "+---+-------------+-------------------+----+--------------+\n",
      "| ID|LITROS_GASTOS|QUANTIDADE_AMOSTRAS|  PH|LITROS_AMOSTRA|\n",
      "+---+-------------+-------------------+----+--------------+\n",
      "|  1|   5000050000|                  0|0.16|        100000|\n",
      "|  2|  20000100000|                 14|0.26|        200000|\n",
      "|  3|  45000150000|                 15|0.46|        300000|\n",
      "|  4|  80000200000|                 54|0.58|        400000|\n",
      "|  5|     1,25E+11|                 55|0.72|        500000|\n",
      "|  6|   5000050000|                 83|0.13|        100000|\n",
      "|  7|  20000100000|                 83|0.37|        200000|\n",
      "|  8|  45000150000|                 84|0.44|        300000|\n",
      "|  9|  80000200000|                 37|0.78|        400000|\n",
      "| 10|     1,25E+11|                 38|0.76|        500000|\n",
      "| 11|   5000050000|                 38|0.13|        100000|\n",
      "| 12|  20000100000|                 38|0.26|        200000|\n",
      "| 13|  45000150000|                 39|0.37|        300000|\n",
      "| 14|  80000200000|                 34|0.47|        400000|\n",
      "| 15|     1,25E+11|                 35|0.57|        500000|\n",
      "| 16|       500500|                 35|0.16|          1000|\n",
      "| 17|       605550|                 35|0.26|          1100|\n",
      "| 18|       720600|                 33|0.46|          1200|\n",
      "| 19|       845650|                 31|0.58|          1300|\n",
      "| 20|       980700|                 16|0.72|          1400|\n",
      "+---+-------------+-------------------+----+--------------+\n",
      "only showing top 20 rows\n",
      "\n"
     ]
    }
   ],
   "source": [
    "dfRandonTratado.show()\n"
   ]
  },
  {
   "cell_type": "code",
   "execution_count": 44,
   "id": "be6b9911",
   "metadata": {},
   "outputs": [
    {
     "name": "stderr",
     "output_type": "stream",
     "text": [
      "22/06/15 03:11:59 WARN AbstractS3ACommitterFactory: Using standard FileOutputCommitter to commit work. This is slow and potentially unsafe.\n",
      "22/06/15 03:11:59 WARN AbstractS3ACommitterFactory: Using standard FileOutputCommitter to commit work. This is slow and potentially unsafe.\n",
      "                                                                                \r"
     ]
    }
   ],
   "source": [
    "# UPANDO OS DADOS TRATADOS COM O  TRATAMENTO\n",
    "\n",
    "#dfRandonTratado.coalesce(1).write.option(\"header\", True).csv(\"s3a://catarina-3sprint-sptech-bucket-tratados/randons\", emptyValue='')\n",
    "\n",
    "#dfRandonTratado.coalesce(1).write.option(\"header\", True).csv(\"s3a://catarina-3sprint-sptech-bucket-cliente/randon\", emptyValue='')\n",
    "\n"
   ]
  },
  {
   "cell_type": "code",
   "execution_count": null,
   "id": "e9cb4019",
   "metadata": {},
   "outputs": [],
   "source": []
  }
 ],
 "metadata": {
  "kernelspec": {
   "display_name": "Python 3 (ipykernel)",
   "language": "python",
   "name": "python3"
  },
  "language_info": {
   "codemirror_mode": {
    "name": "ipython",
    "version": 3
   },
   "file_extension": ".py",
   "mimetype": "text/x-python",
   "name": "python",
   "nbconvert_exporter": "python",
   "pygments_lexer": "ipython3",
   "version": "3.7.10"
  }
 },
 "nbformat": 4,
 "nbformat_minor": 5
}
