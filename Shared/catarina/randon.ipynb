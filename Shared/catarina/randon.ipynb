{
 "cells": [
  {
   "cell_type": "code",
   "execution_count": 1,
   "id": "cccee147",
   "metadata": {},
   "outputs": [
    {
     "name": "stderr",
     "output_type": "stream",
     "text": [
      "WARNING: An illegal reflective access operation has occurred\n",
      "WARNING: Illegal reflective access by org.apache.spark.unsafe.Platform (file:/usr/local/lib/python3.7/site-packages/pyspark/jars/spark-unsafe_2.12-3.2.1.jar) to constructor java.nio.DirectByteBuffer(long,int)\n",
      "WARNING: Please consider reporting this to the maintainers of org.apache.spark.unsafe.Platform\n",
      "WARNING: Use --illegal-access=warn to enable warnings of further illegal reflective access operations\n",
      "WARNING: All illegal access operations will be denied in a future release\n"
     ]
    },
    {
     "name": "stdout",
     "output_type": "stream",
     "text": [
      ":: loading settings :: url = jar:file:/usr/local/lib/python3.7/site-packages/pyspark/jars/ivy-2.5.0.jar!/org/apache/ivy/core/settings/ivysettings.xml\n"
     ]
    },
    {
     "name": "stderr",
     "output_type": "stream",
     "text": [
      "Ivy Default Cache set to: /root/.ivy2/cache\n",
      "The jars for the packages stored in: /root/.ivy2/jars\n",
      "org.apache.hadoop#hadoop-aws added as a dependency\n",
      "com.microsoft.azure#spark-mssql-connector_2.12 added as a dependency\n",
      ":: resolving dependencies :: org.apache.spark#spark-submit-parent-7c4be3f9-cb8d-44ec-b065-70bc667ccc92;1.0\n",
      "\tconfs: [default]\n",
      "\tfound org.apache.hadoop#hadoop-aws;3.2.2 in central\n",
      "\tfound com.amazonaws#aws-java-sdk-bundle;1.11.563 in central\n",
      "\tfound com.microsoft.azure#spark-mssql-connector_2.12;1.2.0 in central\n",
      "\tfound com.microsoft.sqlserver#mssql-jdbc;8.4.1.jre8 in central\n",
      ":: resolution report :: resolve 538ms :: artifacts dl 10ms\n",
      "\t:: modules in use:\n",
      "\tcom.amazonaws#aws-java-sdk-bundle;1.11.563 from central in [default]\n",
      "\tcom.microsoft.azure#spark-mssql-connector_2.12;1.2.0 from central in [default]\n",
      "\tcom.microsoft.sqlserver#mssql-jdbc;8.4.1.jre8 from central in [default]\n",
      "\torg.apache.hadoop#hadoop-aws;3.2.2 from central in [default]\n",
      "\t---------------------------------------------------------------------\n",
      "\t|                  |            modules            ||   artifacts   |\n",
      "\t|       conf       | number| search|dwnlded|evicted|| number|dwnlded|\n",
      "\t---------------------------------------------------------------------\n",
      "\t|      default     |   4   |   0   |   0   |   0   ||   4   |   0   |\n",
      "\t---------------------------------------------------------------------\n",
      ":: retrieving :: org.apache.spark#spark-submit-parent-7c4be3f9-cb8d-44ec-b065-70bc667ccc92\n",
      "\tconfs: [default]\n",
      "\t0 artifacts copied, 4 already retrieved (0kB/8ms)\n",
      "22/06/15 13:38:44 WARN NativeCodeLoader: Unable to load native-hadoop library for your platform... using builtin-java classes where applicable\n",
      "Using Spark's default log4j profile: org/apache/spark/log4j-defaults.properties\n",
      "Setting default log level to \"WARN\".\n",
      "To adjust logging level use sc.setLogLevel(newLevel). For SparkR, use setLogLevel(newLevel).\n"
     ]
    }
   ],
   "source": [
    "#iniciar spark\n",
    "from pyspark import SparkConf\n",
    "from pyspark.sql import SparkSession\n",
    "\n",
    "conf = SparkConf()\n",
    "#conf.set('spark.jars.packages', 'org.apache.hadoop:hadoop-aws:3.2.2')\n",
    "conf.set('spark.jars.packages', 'org.apache.hadoop:hadoop-aws:3.2.2,com.microsoft.azure:spark-mssql-connector_2.12:1.2.0')\n",
    "conf.set('spark.hadoop.fs.s3a.aws.credentials.provider', 'com.amazonaws.auth.InstanceProfileCredentialsProvider')\n",
    "spark = SparkSession.builder.config(conf=conf).getOrCreate()"
   ]
  },
  {
   "cell_type": "code",
   "execution_count": 2,
   "id": "65b46096",
   "metadata": {
    "scrolled": true
   },
   "outputs": [
    {
     "name": "stderr",
     "output_type": "stream",
     "text": [
      "22/06/15 13:41:58 WARN MetricsConfig: Cannot locate configuration: tried hadoop-metrics2-s3a-file-system.properties,hadoop-metrics2.properties\n",
      "                                                                                \r"
     ]
    }
   ],
   "source": [
    "df = spark.read.option('delimiter', ';').option('header', 'true').csv('s3a://catarina-3sprint-sptech-bucket-cliente/randon/dfrandon.csv')"
   ]
  },
  {
   "cell_type": "code",
   "execution_count": 3,
   "id": "57cdc30d",
   "metadata": {},
   "outputs": [
    {
     "name": "stdout",
     "output_type": "stream",
     "text": [
      "+------------------------------------------------------+\n",
      "|ID,LITROS_GASTOS,QUANTIDADE_AMOSTRAS,PH,LITROS_AMOSTRA|\n",
      "+------------------------------------------------------+\n",
      "|                                  1,5000050000,0,0....|\n",
      "|                                  2,20000100000,14,...|\n",
      "|                                  3,45000150000,15,...|\n",
      "|                                  4,80000200000,54,...|\n",
      "|                                  5,\"1,25E+11\",55,0...|\n",
      "|                                  6,5000050000,83,0...|\n",
      "|                                  7,20000100000,83,...|\n",
      "|                                  8,45000150000,84,...|\n",
      "|                                  9,80000200000,37,...|\n",
      "|                                  10,\"1,25E+11\",38,...|\n",
      "|                                  11,5000050000,38,...|\n",
      "|                                  12,20000100000,38...|\n",
      "|                                  13,45000150000,39...|\n",
      "|                                  14,80000200000,34...|\n",
      "|                                  15,\"1,25E+11\",35,...|\n",
      "|                                  16,500500,35,0.16...|\n",
      "|                                  17,605550,35,0.26...|\n",
      "|                                  18,720600,33,0.46...|\n",
      "|                                  19,845650,31,0.58...|\n",
      "|                                  20,980700,16,0.72...|\n",
      "+------------------------------------------------------+\n",
      "only showing top 20 rows\n",
      "\n"
     ]
    }
   ],
   "source": [
    "df.show()"
   ]
  },
  {
   "cell_type": "code",
   "execution_count": 6,
   "id": "51f478df",
   "metadata": {},
   "outputs": [],
   "source": [
    "from pyspark.sql.functions import col\n",
    "from pyspark.sql.types import IntegerType\n",
    "\n",
    "#_df = df.select(\n",
    "#    col('ID').alias('ID'),\n",
    "#    col('LITROS_GASTOS').alias('LITROS_GASTOSS'),\n",
    "#    col('QUANTIDADE_AMOSTRAS').alias('QUANTIDADE_AMOSTRAS'),\n",
    "#    col('PH').alias('PH')\n",
    "#    col('LITROS_AMOSTRA').alias('amostraEmLitros')      \n",
    "#)\n",
    "\n",
    "\n",
    "# _df.write \\\n",
    "#    .mode('overwrite') \\\n",
    "#    .csv('s3a://marise-3cco/vendas_anuais')\n",
    "\n",
    "df.write \\\n",
    " .format('com.microsoft.sqlserver.jdbc.spark') \\\n",
    " .mode('overwrite') \\\n",
    " .option('driver', 'com.microsoft.sqlserver.jdbc.SQLServerDriver') \\\n",
    " .option('url', 'jdbc:sqlserver://catarina-sprint3.database.windows.net;databaseName=catarina-sprint3;') \\\n",
    " .option('dbtable', 'DFRANDON') \\\n",
    " .option('user', 'urubu100') \\\n",
    " .option('password', 'Urubu1@@') \\\n",
    " .save()"
   ]
  },
  {
   "cell_type": "code",
   "execution_count": null,
   "id": "243d2683",
   "metadata": {},
   "outputs": [],
   "source": []
  }
 ],
 "metadata": {
  "kernelspec": {
   "display_name": "Python 3 (ipykernel)",
   "language": "python",
   "name": "python3"
  },
  "language_info": {
   "codemirror_mode": {
    "name": "ipython",
    "version": 3
   },
   "file_extension": ".py",
   "mimetype": "text/x-python",
   "name": "python",
   "nbconvert_exporter": "python",
   "pygments_lexer": "ipython3",
   "version": "3.7.10"
  }
 },
 "nbformat": 4,
 "nbformat_minor": 5
}
