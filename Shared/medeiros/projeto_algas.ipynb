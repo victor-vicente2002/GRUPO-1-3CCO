{
 "cells": [
  {
   "cell_type": "code",
   "execution_count": 3,
   "metadata": {
    "colab": {
     "base_uri": "https://localhost:8080/",
     "height": 312
    },
    "id": "-KFu9GLSX-3m",
    "outputId": "d9c32111-c3ec-4a03-eb0a-50825f74c91e"
   },
   "outputs": [
    {
     "name": "stdout",
     "output_type": "stream",
     "text": [
      "Connected to MySQL Server version  8.0.28\n",
      "insert into transactions(bank_transaction, accumulate, memory, time_elapsed, exec_date) values (%s, %s, %s, %s, %s);\n",
      "ok\n",
      "insert into transactions(bank_transaction, accumulate, memory, time_elapsed, exec_date) values (%s, %s, %s, %s, %s);\n",
      "ok\n",
      "insert into transactions(bank_transaction, accumulate, memory, time_elapsed, exec_date) values (%s, %s, %s, %s, %s);\n",
      "ok\n",
      "insert into transactions(bank_transaction, accumulate, memory, time_elapsed, exec_date) values (%s, %s, %s, %s, %s);\n",
      "ok\n",
      "insert into transactions(bank_transaction, accumulate, memory, time_elapsed, exec_date) values (%s, %s, %s, %s, %s);\n",
      "ok\n",
      "MySQL connection is closed\n"
     ]
    },
    {
     "data": {
      "text/plain": [
       "Text(0, 0.5, 'Memoria')"
      ]
     },
     "execution_count": 3,
     "metadata": {},
     "output_type": "execute_result"
    },
    {
     "data": {
      "image/png": "[encoded data removed]",
      "text/plain": [
       "<Figure size 432x288 with 1 Axes>"
      ]
     },
     "metadata": {
      "needs_background": "light"
     },
     "output_type": "display_data"
    }
   ],
   "source": [
    "from datetime import datetime\n",
    "import matplotlib.pyplot as plt\n",
    "import numpy as np\n",
    "import tracemalloc\n",
    "import mysql.connector as mysql\n",
    "from mysql.connector import Error\n",
    "\n",
    "\n",
    "def soma_tempo(n):\n",
    "    tracemalloc.start()\n",
    "    \n",
    "    dt_inicio = datetime.now()\n",
    "    end_date = 0\n",
    "    accumulator = 0\n",
    "    \n",
    "    \n",
    "    for i in range(1, n+1):\n",
    "        accumulator += i\n",
    "    end_date = datetime.now()\n",
    "    memory = tracemalloc.get_traced_memory()[1] # segundo elemento representa o pico da memoria\n",
    "    time = (end_date - dt_inicio).total_seconds()\n",
    "    retorno = { \n",
    "        'bank_transaction': memory, \n",
    "        'accumulate': n,\n",
    "        'memory': memory,\n",
    "        'time_elapsed': time,\n",
    "        'exec_date': datetime.now(),\n",
    "    }\n",
    "    tracemalloc.stop()\n",
    "    tracemalloc.clear_traces()\n",
    "    return retorno\n",
    "\n",
    "try:\n",
    "    connection = mysql.connect(\n",
    "        host = 'localhost',\n",
    "        database = 'measures',\n",
    "        user = 'root',\n",
    "        password = 'algas123'\n",
    "    )\n",
    "    if connection.is_connected():\n",
    "        db_Info = connection.get_server_info()\n",
    "        print(\"Connected to MySQL Server version \", db_Info)\n",
    "        cursor = connection.cursor()\n",
    "\n",
    "        valores = []\n",
    "        for valor in range(100000, 600000, 100000):\n",
    "            current = soma_tempo(valor)\n",
    "            \n",
    "            query = \"insert into transactions(bank_transaction, accumulate, memory, time_elapsed, exec_date) values (%s, %s, %s, %s, %s);\"\n",
    "            query_data = (current['bank_transaction'], current['accumulate'], current['memory'], current['time_elapsed'], current['exec_date'])\n",
    "            print(query)\n",
    "            cursor.execute(query, query_data)\n",
    "            connection.commit()\n",
    "            print(\"ok\")\n",
    "            valores.append(current)\n",
    "\n",
    "        plt.plot(\n",
    "            np.array([item['time_elapsed'] for item in valores]),\n",
    "            np.array([item['memory'] for item in valores]),\n",
    "        )\n",
    "except Error as e:\n",
    "    print(\"Error while connecting to MySQL\", e)\n",
    "finally:\n",
    "    if connection.is_connected():\n",
    "        cursor.close()\n",
    "        connection.close()\n",
    "    print(\"MySQL connection is closed\")\n",
    "\n",
    "\n",
    "\n",
    "# a)\n",
    "plt.title('Memória x Tempo')\n",
    "plt.xlabel('Tempo')\n",
    "plt.ylabel('Memoria')\n"
   ]
  }
 ],
 "metadata": {
  "colab": {
   "name": "solucao.ipynb",
   "provenance": []
  },
  "kernelspec": {
   "display_name": "Python 3",
   "language": "python",
   "name": "python3"
  },
  "language_info": {
   "codemirror_mode": {
    "name": "ipython",
    "version": 3
   },
   "file_extension": ".py",
   "mimetype": "text/x-python",
   "name": "python",
   "nbconvert_exporter": "python",
   "pygments_lexer": "ipython3",
   "version": "3.10.0"
  }
 },
 "nbformat": 4,
 "nbformat_minor": 1
}
