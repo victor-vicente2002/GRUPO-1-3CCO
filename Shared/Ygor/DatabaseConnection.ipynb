{
 "cells": [
  {
   "cell_type": "code",
   "execution_count": 2,
   "id": "95335064",
   "metadata": {},
   "outputs": [],
   "source": [
    "import mysql.connector\n",
    "\n",
    "cnx = mysql.connector.connect(user='root', password='admin',\n",
    "                              host='127.0.0.1', database=\"database_projeto\")\n",
    "\n",
    "cursor = cnx.cursor()"
   ]
  },
  {
   "cell_type": "code",
   "execution_count": 3,
   "id": "6a1cce78",
   "metadata": {},
   "outputs": [],
   "source": [
    "def insert_registro(registro):\n",
    "    cursor.execute(\"INSERT INTO insert_values(bank_transaction, accumulate, memory, time_elapsed, block_transaction, exec_date) VALUES(%s, %s, %s, %s, %s, %s)\", registro)\n",
    "    cnx.commit()"
   ]
  },
  {
   "cell_type": "code",
   "execution_count": 4,
   "id": "1d8d4094",
   "metadata": {},
   "outputs": [],
   "source": [
    "from datetime import datetime, timedelta\n",
    "import numpy as np\n",
    "import tracemalloc\n",
    "import sys\n",
    "\n",
    "blocos = [\n",
    "    range(100_000, 600_000, 100_000),\n",
    "    range(1_000, 6_000, 100),\n",
    "    range(100, 600, 100),\n",
    "    range(10, 60, 10),\n",
    "    range(1_000_000, 6_000_000, 1_000_000)\n",
    "]\n",
    "\n",
    "def run_blocks(days_to_subtract):\n",
    "    num_bloco = 0\n",
    "    for bloco in blocos:\n",
    "        num_bloco += 1\n",
    "        for transaction in bloco:\n",
    "            dt_inicio = datetime.now()\n",
    "            acumulador = 0\n",
    "\n",
    "            for i in range(1, transaction+1):\n",
    "                acumulador += i\n",
    "\n",
    "            dt_fim = datetime.now()\n",
    "\n",
    "            fim_tracemalloc = tracemalloc.get_traced_memory()\n",
    "            tracemalloc.clear_traces()\n",
    "\n",
    "            insert_registro(( transaction, acumulador, sys.getsizeof(acumulador), (dt_fim - dt_inicio).microseconds, num_bloco, datetime.now() - timedelta(days=days_to_subtract)))\n",
    "\n",
    "            tracemalloc.stop()\n",
    "            \n",
    "            \n",
    "for days_to_subtract in range(0, 30):\n",
    "    run_blocks(days_to_subtract)"
   ]
  },
  {
   "cell_type": "code",
   "execution_count": 8,
   "id": "541f68a4",
   "metadata": {},
   "outputs": [],
   "source": [
    "from datetime import datetime, timedelta\n",
    "import numpy as np\n",
    "import tracemalloc\n",
    "import sys\n",
    "\n",
    "blocos = [\n",
    "    range(100_000, 600_000, 100_000),\n",
    "    range(1_000, 6_000, 100),\n",
    "    range(100, 600, 100),\n",
    "    range(10, 60, 10),\n",
    "    range(1_000_000, 6_000_000, 1_000_000)\n",
    "]\n",
    "\n",
    "def run_blocks(days_to_subtract):\n",
    "    num_bloco = 0\n",
    "    for bloco in blocos:\n",
    "        num_bloco += 1\n",
    "        for transaction in bloco:\n",
    "            dt_inicio = datetime.now()\n",
    "            acumulador = [1]\n",
    "\n",
    "            for i in range(2, transaction+1):\n",
    "                acumulador.append(acumulador[-1] + i)\n",
    "\n",
    "            dt_fim = datetime.now()\n",
    "\n",
    "            fim_tracemalloc = tracemalloc.get_traced_memory()\n",
    "            tracemalloc.clear_traces()\n",
    "\n",
    "            insert_registro(( transaction, acumulador[-1], sys.getsizeof(acumulador), (dt_fim - dt_inicio).microseconds, num_bloco, datetime.now() - timedelta(days=days_to_subtract)))\n",
    "\n",
    "            tracemalloc.stop()\n",
    "            \n",
    "            \n",
    "run_blocks(0)"
   ]
  }
 ],
 "metadata": {
  "kernelspec": {
   "display_name": "Python 3 (ipykernel)",
   "language": "python",
   "name": "python3"
  },
  "language_info": {
   "codemirror_mode": {
    "name": "ipython",
    "version": 3
   },
   "file_extension": ".py",
   "mimetype": "text/x-python",
   "name": "python",
   "nbconvert_exporter": "python",
   "pygments_lexer": "ipython3",
   "version": "3.9.7"
  }
 },
 "nbformat": 4,
 "nbformat_minor": 5
}
