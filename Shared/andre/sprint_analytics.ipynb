{
 "cells": [
  {
   "cell_type": "code",
   "execution_count": 37,
   "metadata": {
    "colab": {
     "base_uri": "https://localhost:8080/",
     "height": 432
    },
    "id": "ZexsZNTdydyh",
    "outputId": "cdeca5b2-d1d0-4d58-e401-3b68d9f38ea0"
   },
   "outputs": [
    {
     "name": "stdout",
     "output_type": "stream",
     "text": [
      "<mysql.connector.connection_cext.CMySQLConnection object at 0x000001BA0B3D4610>\n"
     ]
    }
   ],
   "source": [
    "import mysql.connector\n",
    "from datetime import datetime\n",
    "import matplotlib.pyplot as plt\n",
    "import numpy as np\n",
    "import sys \n",
    "\n",
    "def connect():\n",
    "    connection = mysql.connector.connect(\n",
    "        host=\"localhost\",\n",
    "        user=\"root\",\n",
    "        passwd=\"bandtec\",\n",
    "        database=\"bd_memory_time\"\n",
    "    )\n",
    "    return connection\n",
    "\n",
    "def close_connection(cursor, connection):\n",
    "    cursor.close()\n",
    "    connection.close()\n",
    "    \n",
    "def insert(byte_memory, time, acumulator, iterator_number):\n",
    "    connection = connect()\n",
    "    cursor = connection.cursor()\n",
    "    \n",
    "    cursor.execute(f'''INSERT INTO tbl_memory_time (byte_memory, runtime, acumulator, iterator_number) \n",
    "    VALUES ({sys.getsizeof(byte_memory)}, {time}, {acumulator}, {iterator_number});''')\n",
    "    \n",
    "    connection.commit()\n",
    "    close_connection(cursor, connection)\n",
    "    \n",
    "cursor = connect()\n",
    "print(cursor)"
   ]
  },
  {
   "cell_type": "code",
   "execution_count": 38,
   "metadata": {
    "colab": {
     "base_uri": "https://localhost:8080/",
     "height": 634
    },
    "id": "-KFu9GLSX-3m",
    "outputId": "1f4c335b-8174-42a7-8370-0ba97e21b249"
   },
   "outputs": [],
   "source": [
    "def sum_time(n):\n",
    "    start_date = datetime.now()\n",
    "    final_date = 0\n",
    "    acumulator = 0\n",
    "    memory_vector = []\n",
    "    iterator_number = 0\n",
    "    \n",
    "    for i in range(1, n+1):\n",
    "        iterator_number += 1\n",
    "        acumulator += i\n",
    "        memory_vector.append(i)\n",
    "        \n",
    "        final_date = datetime.now()\n",
    "        \n",
    "        connection = connect()\n",
    "        cursor = connection.cursor()\n",
    "\n",
    "        cursor.execute(f'''INSERT INTO tbl_memory_time (byte_memory, runtime, acumulator, iterator_number) \n",
    "        VALUES ({sys.getsizeof(memory_vector)}, {(final_date - start_date).total_seconds()}, {acumulator}, {iterator_number});''')\n",
    "\n",
    "        connection.commit()\n",
    "        close_connection(cursor, connection)"
   ]
  },
  {
   "cell_type": "code",
   "execution_count": 41,
   "metadata": {
    "colab": {
     "base_uri": "https://localhost:8080/",
     "height": 282
    },
    "id": "ExBCa_E4X_y0",
    "outputId": "53e2e211-fed8-464b-a37f-d596a3556d12"
   },
   "outputs": [],
   "source": [
    "values = []\n",
    "for value in range(70, 120, 70):\n",
    "    values.append(sum_time(value))"
   ]
  },
  {
   "cell_type": "code",
   "execution_count": 40,
   "metadata": {
    "colab": {
     "base_uri": "https://localhost:8080/",
     "height": 293
    },
    "id": "wwUQ1YRSY5A5",
    "outputId": "67aa970b-95cc-41c5-9514-35998ebdef6b"
   },
   "outputs": [],
   "source": [
    "values = []\n",
    "for value in range(95, 140, 95):\n",
    "    values.append(sum_time(value))"
   ]
  },
  {
   "cell_type": "code",
   "execution_count": null,
   "metadata": {},
   "outputs": [],
   "source": []
  }
 ],
 "metadata": {
  "colab": {
   "collapsed_sections": [],
   "name": "projeto_algas_mysql.ipynb",
   "provenance": []
  },
  "kernelspec": {
   "display_name": "Python 3",
   "language": "python",
   "name": "python3"
  },
  "language_info": {
   "codemirror_mode": {
    "name": "ipython",
    "version": 3
   },
   "file_extension": ".py",
   "mimetype": "text/x-python",
   "name": "python",
   "nbconvert_exporter": "python",
   "pygments_lexer": "ipython3",
   "version": "3.8.8"
  }
 },
 "nbformat": 4,
 "nbformat_minor": 1
}
